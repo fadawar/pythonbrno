{
 "cells": [
  {
   "cell_type": "markdown",
   "metadata": {},
   "source": [
    "## Flask\n",
    "\n",
    "Flask is a microframework for Python.\n",
    "- http://flask.pocoo.org/\n",
    "\n",
    "### Resources for Learning Flask\n",
    "\n",
    "Explore Flask\n",
    "- Free book funded by a kickstarter campaign:\n",
    "- http://exploreflask.com/en/latest/index.html\n",
    "\n",
    "Miguel Grinberg - Flask Workshop - PyCon 2015\n",
    "- Great tutorial documenting core features here:\n",
    "- Video of Workshop: https://www.youtube.com/watch?v=DIcpEg77gdE\n",
    "- Code: https://github.com/miguelgrinberg/flask-pycon2015\n",
    "\n",
    "### Today\n",
    "Today we'll use our knowledge of pandas to make an insecure API for querying pandas data structures."
   ]
  },
  {
   "cell_type": "markdown",
   "metadata": {},
   "source": [
    "### Important notes on running Flask in Jupyter\n",
    "\n",
    "- Not a good idea to run Flask in Jupyter. I'm doing it here to ease presentation of the information.\n",
    "- Press the stop button above after running Flask in one of these cells before executing code in another cell.\n",
    "- When Jupyter becomes unresponsive\n",
    "  - `Kernel --> Restart & Clear Output`"
   ]
  },
  {
   "cell_type": "markdown",
   "metadata": {},
   "source": [
    "### An example"
   ]
  },
  {
   "cell_type": "code",
   "execution_count": 2,
   "metadata": {
    "collapsed": false,
    "scrolled": true
   },
   "outputs": [
    {
     "name": "stderr",
     "output_type": "stream",
     "text": [
      " * Running on http://127.0.0.1:5000/ (Press CTRL+C to quit)\n",
      "127.0.0.1 - - [21/Mar/2017 18:12:46] \"GET / HTTP/1.1\" 200 -\n"
     ]
    }
   ],
   "source": [
    "from flask import Flask\n",
    "\n",
    "app = Flask(__name__) # Instantiate Flask\n",
    "\n",
    "@app.route('/')       # Define a URL pattern and the function associated with it\n",
    "def index():\n",
    "    return '<h1>API for querying titanic data</h1>'\n",
    "\n",
    "\n",
    "if __name__ == '__main__':\n",
    "#     app.run(debug=True) # Debug mode does not work in Jupyter\n",
    "    app.run()"
   ]
  },
  {
   "cell_type": "markdown",
   "metadata": {},
   "source": [
    "### Notes\n",
    "- passing `__name__` helps Flask find other files relative to this file (css, images, etc.)\n",
    "- `index` name here could be anything\n",
    "- `app.run()` executes the development server\n",
    "  - `if __name__ == '__main__':` ensures development server not run in production"
   ]
  },
  {
   "cell_type": "markdown",
   "metadata": {},
   "source": [
    "### View decorators\n",
    "\n",
    "\"Python decorators are functions that are used to transform other functions. When a decorated function is called, the decorator is called instead. The decorator can then take action, modify the arguments, halt execution or call the original function. We can use decorators to wrap views with code we’d like to run before they are executed.\"\n",
    "- http://exploreflask.com/en/latest/views.html#view-decorators\n",
    "\n",
    "Details on how Flask does it\n",
    "- https://ains.co/blog/things-which-arent-magic-flask-part-1.html"
   ]
  },
  {
   "cell_type": "markdown",
   "metadata": {},
   "source": [
    "### An example decorator"
   ]
  },
  {
   "cell_type": "code",
   "execution_count": 4,
   "metadata": {
    "collapsed": false
   },
   "outputs": [
    {
     "name": "stdout",
     "output_type": "stream",
     "text": [
      "Entering Function\n",
      "Hello World\n",
      "Exited Function\n"
     ]
    }
   ],
   "source": [
    "# Source: https://ains.co/blog/things-which-arent-magic-flask-part-1.html\n",
    "\n",
    "# This is our decorator\n",
    "def simple_decorator(f):\n",
    "    # This is the new function we're going to return\n",
    "    # This function will be used in place of our original definition\n",
    "    def wrapper():\n",
    "        print(\"Entering Function\")\n",
    "        f()\n",
    "        print(\"Exited Function\")\n",
    "\n",
    "    return wrapper\n",
    "\n",
    "@simple_decorator \n",
    "def hello():\n",
    "    print(\"Hello World\")\n",
    "\n",
    "hello()"
   ]
  },
  {
   "cell_type": "markdown",
   "metadata": {},
   "source": [
    "### Hmmmm...\n",
    "- How can I check that I'm understanding this right?\n",
    "- Use the pythontutor"
   ]
  },
  {
   "cell_type": "code",
   "execution_count": 5,
   "metadata": {
    "collapsed": true
   },
   "outputs": [],
   "source": [
    "%load_ext tutormagic"
   ]
  },
  {
   "cell_type": "code",
   "execution_count": 6,
   "metadata": {
    "collapsed": false
   },
   "outputs": [
    {
     "name": "stderr",
     "output_type": "stream",
     "text": [
      "UsageError: %%tutor is a cell magic, but the cell body is empty.\n"
     ]
    }
   ],
   "source": [
    "%%tutor --lang python3 --tab"
   ]
  },
  {
   "cell_type": "markdown",
   "metadata": {},
   "source": [
    "### More detailed example of how this works in Flask\n",
    "\n",
    "When python interprets the file, the routes are collected by Flask providing a mapping between route and the function"
   ]
  },
  {
   "cell_type": "code",
   "execution_count": null,
   "metadata": {
    "collapsed": false
   },
   "outputs": [],
   "source": [
    "# Source: https://ains.co/blog/things-which-arent-magic-flask-part-1.html\n",
    "class NotFlask():\n",
    "    def __init__(self):\n",
    "        self.routes = {}\n",
    "\n",
    "    def route(self, route_str):\n",
    "        def decorator(f):\n",
    "            self.routes[route_str] = f\n",
    "            return f\n",
    "\n",
    "        return decorator\n",
    "\n",
    "    def serve(self, path):\n",
    "        view_function = self.routes.get(path)\n",
    "        return view_function()\n",
    "\n",
    "not_flask_app = NotFlask()\n",
    "\n",
    "@not_flask_app.route(\"/\")\n",
    "def hello():\n",
    "    return \"Hello World!\"\n",
    "\n",
    "@not_flask_app.route(\"/about\")\n",
    "def some_name_that_doesnt_matter():\n",
    "    return \"Somthing about us.\"\n",
    "\n",
    "not_flask_app.routes"
   ]
  },
  {
   "cell_type": "markdown",
   "metadata": {},
   "source": [
    "### Hmmmm...\n",
    "- How can I check that I'm understanding this right?\n",
    "- Use the pythontutor"
   ]
  },
  {
   "cell_type": "code",
   "execution_count": null,
   "metadata": {
    "collapsed": true
   },
   "outputs": [],
   "source": [
    "# %load_ext tutormagic"
   ]
  },
  {
   "cell_type": "code",
   "execution_count": null,
   "metadata": {
    "collapsed": true
   },
   "outputs": [],
   "source": [
    "# %%tutor --lang python3 --tab"
   ]
  },
  {
   "cell_type": "markdown",
   "metadata": {},
   "source": [
    "## Making a simple API to serve up the results of pandas queries"
   ]
  },
  {
   "cell_type": "code",
   "execution_count": 9,
   "metadata": {
    "collapsed": false
   },
   "outputs": [],
   "source": [
    "import pandas as pd\n",
    "import matplotlib\n",
    "import matplotlib.pyplot as plt\n",
    "matplotlib.style.use('ggplot')\n",
    "\n",
    "import datetime\n",
    "import io\n",
    "import random\n",
    "\n",
    "from matplotlib.backends.backend_agg import FigureCanvasAgg as FigureCanvas\n",
    "from matplotlib.figure import Figure\n",
    "from matplotlib.dates import DateFormatter"
   ]
  },
  {
   "cell_type": "markdown",
   "metadata": {},
   "source": [
    "### Dynamic routes\n",
    "\n",
    "- Key point to remember\n",
    "  - This data is coming from a user\n",
    "  - You must validate the data or it could crash your server"
   ]
  },
  {
   "cell_type": "code",
   "execution_count": 14,
   "metadata": {
    "collapsed": false
   },
   "outputs": [
    {
     "name": "stderr",
     "output_type": "stream",
     "text": [
      " * Running on http://127.0.0.1:5000/ (Press CTRL+C to quit)\n",
      "127.0.0.1 - - [21/Mar/2017 18:41:26] \"GET /column/Name HTTP/1.1\" 200 -\n",
      "127.0.0.1 - - [21/Mar/2017 18:41:36] \"GET /describe/Name HTTP/1.1\" 200 -\n",
      "127.0.0.1 - - [21/Mar/2017 18:42:27] \"GET /describe/Name HTTP/1.1\" 200 -\n",
      "127.0.0.1 - - [21/Mar/2017 18:43:13] \"GET /describe/Name HTTP/1.1\" 200 -\n",
      "127.0.0.1 - - [21/Mar/2017 18:43:33] \"GET /describe/Name HTTP/1.1\" 200 -\n",
      "127.0.0.1 - - [21/Mar/2017 18:45:10] \"GET /describe/Name HTTP/1.1\" 200 -\n"
     ]
    }
   ],
   "source": [
    "from flask import Flask\n",
    "\n",
    "\n",
    "app = Flask(__name__)\n",
    "df = pd.read_csv('titanic_data.csv')\n",
    "\n",
    "@app.route(\"/\")\n",
    "def index():\n",
    "    return '<h1>API for querying titanic data</h1>'\n",
    "\n",
    "# http://127.0.0.1:5000/column/name\n",
    "@app.route('/column/<string:name>')\n",
    "def column_version1(name):\n",
    "    return(df[name].to_json())\n",
    "\n",
    "# http://127.0.0.1:5000/column/name\n",
    "@app.route('/describe/<string:name>')\n",
    "def describe1(name):\n",
    "    return(df[name].describe().to_json())\n",
    "\n",
    "# http://127.0.0.1:5000/column?name=name\n",
    "@app.route('/column')\n",
    "def column_version2():\n",
    "    name = request.args.get('name')\n",
    "    return(df[name].to_json())\n",
    "\n",
    "if __name__ == \"__main__\":\n",
    "    app.run()"
   ]
  },
  {
   "cell_type": "markdown",
   "metadata": {},
   "source": [
    "### Exercise\n",
    "1. write a `/describe/name` endpoint which applies the `describe()` function to the column with name `name` and returns json to the user\n",
    "- use curl to read data from the column endpoint in the terminal\n",
    "- in a separate notebook or python terminal, use the requests package to read data from the column endpoint"
   ]
  },
  {
   "cell_type": "markdown",
   "metadata": {},
   "source": [
    "### Adding plots\n",
    "\n",
    "- Webservices: http://www.plot.ly"
   ]
  },
  {
   "cell_type": "code",
   "execution_count": null,
   "metadata": {
    "collapsed": false
   },
   "outputs": [],
   "source": [
    "from flask import Flask, request, jsonify, make_response\n",
    "\n",
    "app = Flask(__name__)\n",
    "df = pd.read_csv('titanic_data.csv')\n",
    "\n",
    "# http://127.0.0.1:5000/hist/name\n",
    "@app.route('/hist/<string:name>')\n",
    "def hist(name):\n",
    "    if df[name].dtype not in ('float64', 'int64'):\n",
    "        return \"Can't plot type: {}\".format(df[name].dtype)\n",
    "    \n",
    "    fig = plt.figure()\n",
    "    \n",
    "    # Write code to generate a histogram for the column with name `name`. pass the argument `figsize=(10,10)`\n",
    "    \n",
    "    plt.ylabel(name)\n",
    "    canvas=FigureCanvas(fig)\n",
    "    png_output = io.BytesIO()\n",
    "    canvas.print_png(png_output)\n",
    "    response=make_response(png_output.getvalue())\n",
    "    response.headers['Content-Type'] = 'image/png'\n",
    "    return response\n",
    "\n",
    "# http://127.0.0.1:5000/plot/name\n",
    "@app.route('/plot/<string:name>')\n",
    "def plot(name):\n",
    "    if df[name].dtype not in ('float64', 'int64'):\n",
    "        return \"Can't plot type: {}\".format(df[name].dtype)\n",
    "    \n",
    "    fig = plt.figure()\n",
    "    \n",
    "    # Write code to generate a plot for the column with name `name`. pass the argument `figsize=(10,10)`\n",
    "    \n",
    "    plt.ylabel(name)\n",
    "    canvas=FigureCanvas(fig)\n",
    "    png_output = io.BytesIO()\n",
    "    canvas.print_png(png_output)\n",
    "    response=make_response(png_output.getvalue())\n",
    "    response.headers['Content-Type'] = 'image/png'\n",
    "    return response\n",
    "\n",
    "if __name__ == \"__main__\":\n",
    "    app.run()"
   ]
  },
  {
   "cell_type": "markdown",
   "metadata": {},
   "source": [
    "### Can we remove the duplicated code between `hist` and `plot`?\n",
    "- try a decorator\n",
    "- is this really a good idea though?"
   ]
  },
  {
   "cell_type": "code",
   "execution_count": null,
   "metadata": {
    "collapsed": true
   },
   "outputs": [],
   "source": []
  }
 ],
 "metadata": {
  "anaconda-cloud": {},
  "kernelspec": {
   "display_name": "Python 3",
   "language": "python",
   "name": "python3"
  },
  "language_info": {
   "codemirror_mode": {
    "name": "ipython",
    "version": 3
   },
   "file_extension": ".py",
   "mimetype": "text/x-python",
   "name": "python",
   "nbconvert_exporter": "python",
   "pygments_lexer": "ipython3",
   "version": "3.6.0"
  }
 },
 "nbformat": 4,
 "nbformat_minor": 1
}
