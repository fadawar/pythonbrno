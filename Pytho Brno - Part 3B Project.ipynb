{
 "cells": [
  {
   "cell_type": "markdown",
   "metadata": {},
   "source": [
    "## APIs project\n",
    "\n",
    "Submit your code on github... even partially completed and get an invitation to a special kiwi pub night. Filip will send you an email with details.\n",
    "\n",
    "### Project Requirements:\n",
    "\n",
    "#### Part 1\n",
    "Write a Flask server with the following routes:\n",
    "  - `/vehicles`\n",
    "    - returns json information for all vehicles\n",
    "  - `/vehicles/plot`\n",
    "    - returns a plot of the location of all vehicles\n",
    "  - `/routes`\n",
    "    - returns json information for all vehicles grouped by route\n",
    "  - `/routes/plot`\n",
    "    - returns a plot of the location of all vehicles colored by route including legend\n",
    "  - `/routes/<int:id>`\n",
    "    - returns json information for the vehicles on route `id`\n",
    "\n",
    "#### Part 2\n",
    "Calculate average vehicle distance by route over a time interval:\n",
    "  - Request vehicle movement data once per minute for 30 minutes\n",
    "  - For each vehicle\n",
    "    - Calculate the absolute differences between it's current position and it's previous position (latitude / longitude) using the provided function\n",
    "    - Sum the total distance traveled the vehicle over the 30 minute interval\n",
    "    - The output of this step should be a single column with shape `(len(vehicles) x 1)`\n",
    "  - Group the vehicles by route and calculate the average distance traveled by a vehicle on that route over the 30 minute interval\n",
    "    - The input to this step should be the total vehicle distance you calculated in the last step\n",
    "    - Plot a bar chart of the grouped results\n",
    "    - Summarize results in a few sentences.\n",
    "\n",
    "#### Bonus\n",
    "- For each vehicle, plot a line tracing its positions over the 30 minute interval"
   ]
  },
  {
   "cell_type": "markdown",
   "metadata": {},
   "source": [
    "## Getting Started"
   ]
  },
  {
   "cell_type": "code",
   "execution_count": null,
   "metadata": {
    "collapsed": false
   },
   "outputs": [],
   "source": [
    "%matplotlib inline\n",
    "import matplotlib\n",
    "import matplotlib.pyplot as plt\n",
    "matplotlib.style.use('ggplot')\n",
    "\n",
    "import pandas as pd\n",
    "import requests\n",
    "import time"
   ]
  },
  {
   "cell_type": "code",
   "execution_count": null,
   "metadata": {
    "collapsed": true
   },
   "outputs": [],
   "source": [
    "vehicle_url = 'http://ris.azurewebsites.net/vehicles.json'\n",
    "r = requests.get(vehicle_url)\n",
    "df = pd.DataFrame.from_dict(r.json())"
   ]
  },
  {
   "cell_type": "markdown",
   "metadata": {},
   "source": [
    "### Notes\n",
    "- Make sure you filter out vehicles with latitude and longitude of 0"
   ]
  },
  {
   "cell_type": "code",
   "execution_count": null,
   "metadata": {
    "collapsed": false,
    "scrolled": false
   },
   "outputs": [],
   "source": [
    "df_slice = df[(df.longitude != 0) & df.latitude != 0]\n",
    "df_slice.plot.scatter(x='latitude', y='longitude');"
   ]
  },
  {
   "cell_type": "markdown",
   "metadata": {},
   "source": [
    "### Calculating distance"
   ]
  },
  {
   "cell_type": "code",
   "execution_count": null,
   "metadata": {
    "collapsed": true
   },
   "outputs": [],
   "source": [
    "# http://stackoverflow.com/a/21623206\n",
    "from math import cos, asin, sqrt\n",
    "def distance(lat1, lon1, lat2, lon2):\n",
    "    p = 0.017453292519943295\n",
    "    a = 0.5 - cos((lat2 - lat1) * p)/2 + cos(lat1 * p) * cos(lat2 * p) * (1 - cos((lon2 - lon1) * p)) / 2\n",
    "    return 12742 * asin(sqrt(a))"
   ]
  },
  {
   "cell_type": "code",
   "execution_count": null,
   "metadata": {
    "collapsed": false
   },
   "outputs": [],
   "source": [
    "df_slice.head()"
   ]
  },
  {
   "cell_type": "code",
   "execution_count": null,
   "metadata": {
    "collapsed": false
   },
   "outputs": [],
   "source": [
    "lat1 = df_slice.loc[0,'latitude']\n",
    "lon1 = df_slice.loc[0,'longitude']\n",
    "lat2 = df_slice.loc[1,'latitude']\n",
    "lon2 = df_slice.loc[1,'longitude']\n",
    "distance(lat1, lon2, lat2, lon2)"
   ]
  },
  {
   "cell_type": "markdown",
   "metadata": {},
   "source": [
    "### Exercises"
   ]
  },
  {
   "cell_type": "markdown",
   "metadata": {},
   "source": [
    "Question 1: How many vehicles are there?"
   ]
  },
  {
   "cell_type": "code",
   "execution_count": null,
   "metadata": {
    "collapsed": true
   },
   "outputs": [],
   "source": []
  },
  {
   "cell_type": "code",
   "execution_count": null,
   "metadata": {
    "collapsed": true
   },
   "outputs": [],
   "source": []
  },
  {
   "cell_type": "markdown",
   "metadata": {},
   "source": [
    "Question 2: How many unique routes are there?"
   ]
  },
  {
   "cell_type": "code",
   "execution_count": null,
   "metadata": {
    "collapsed": true
   },
   "outputs": [],
   "source": []
  },
  {
   "cell_type": "code",
   "execution_count": null,
   "metadata": {
    "collapsed": true
   },
   "outputs": [],
   "source": []
  },
  {
   "cell_type": "code",
   "execution_count": null,
   "metadata": {
    "collapsed": true
   },
   "outputs": [],
   "source": []
  },
  {
   "cell_type": "markdown",
   "metadata": {},
   "source": [
    "### Joining dataframes\n",
    "- Use an inner join in case some vehicles are missing at certain times"
   ]
  },
  {
   "cell_type": "code",
   "execution_count": null,
   "metadata": {
    "collapsed": false
   },
   "outputs": [],
   "source": [
    "df0 = pd.read_csv('vehicles_0.csv', index_col=0).set_index('vehicleId')\n",
    "df1 = pd.read_csv('vehicles_1.csv', index_col=0).set_index('vehicleId')\n",
    "df0 = df0[['latitude', 'longitude']]\n",
    "df1 = df1[['latitude', 'longitude']]\n",
    "\n",
    "df_joined = df0.join(df1, how='inner', rsuffix='1')\n",
    "df_joined.head()"
   ]
  },
  {
   "cell_type": "markdown",
   "metadata": {},
   "source": [
    "### Use `apply` on the joined DataFrame to apply the distance function to each row"
   ]
  },
  {
   "cell_type": "code",
   "execution_count": null,
   "metadata": {
    "collapsed": true
   },
   "outputs": [],
   "source": [
    "from math import cos, asin, sqrt\n",
    "def distance(lat1, lon1, lat2, lon2):\n",
    "    p = 0.017453292519943295\n",
    "    a = 0.5 - cos((lat2 - lat1) * p)/2 + cos(lat1 * p) * cos(lat2 * p) * (1 - cos((lon2 - lon1) * p)) / 2\n",
    "    return 12742 * asin(sqrt(a))\n",
    "\n",
    "\n",
    "def distance_row(row):\n",
    "    # Unpack row and pass it to `distance`    \n",
    "    \n",
    "    # Method 1:\n",
    "    # lat1, lon1, lat2, lon2 = row\n",
    "    # return distance(lat1, lon1, lat2, lon2)\n",
    "    \n",
    "    # Method 2:\n",
    "    # Use the * operator to unpack row into variables\n",
    "    \n",
    "    return distance(*row)"
   ]
  },
  {
   "cell_type": "code",
   "execution_count": null,
   "metadata": {
    "collapsed": false
   },
   "outputs": [],
   "source": [
    "df_joined.apply(distance_row, axis=1)"
   ]
  },
  {
   "cell_type": "code",
   "execution_count": null,
   "metadata": {
    "collapsed": true
   },
   "outputs": [],
   "source": []
  }
 ],
 "metadata": {
  "anaconda-cloud": {},
  "kernelspec": {
   "display_name": "Python 3",
   "language": "python",
   "name": "python3"
  },
  "language_info": {
   "codemirror_mode": {
    "name": "ipython",
    "version": 3
   },
   "file_extension": ".py",
   "mimetype": "text/x-python",
   "name": "python",
   "nbconvert_exporter": "python",
   "pygments_lexer": "ipython3",
   "version": "3.6.0"
  }
 },
 "nbformat": 4,
 "nbformat_minor": 1
}
