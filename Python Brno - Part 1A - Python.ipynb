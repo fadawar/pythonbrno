{
 "cells": [
  {
   "cell_type": "markdown",
   "metadata": {},
   "source": [
    "# Python Brno - Part 1A - Python\n",
    "\n",
    "\n",
    "### Installation\n",
    "1. Anaconda\n",
    "  - https://www.continuum.io/downloads\n",
    "- tutormagic\n",
    "  - https://github.com/kikocorreoso/tutormagic\n",
    "  - pip install git+https://github.com/kikocorreoso/tutormagic.git\n",
    "  \n",
    "\n",
    "## Workshop Outline\n",
    "\n",
    "\n",
    "### Part 1A - Python\n",
    "1. Data Structure Review\n",
    "- List comprehensions\n",
    "- Python memory model\n",
    "\n",
    "### Part 1B - Pandas\n",
    "1. Exploring the titanic data\n",
    "2. Selection\n",
    "3. Filtering\n",
    "4. More functions\n",
    "5. Intro to groupby"
   ]
  },
  {
   "cell_type": "markdown",
   "metadata": {},
   "source": [
    "### Questions\n",
    "- Can you hear me in the back?\n",
    "- Am I speaking too fast for anybody?\n",
    "\n",
    "\n",
    "- Who's studying Computer Science?\n",
    "- Who works as a programmer?\n",
    "- Who works as a python programmer?\n",
    "- Who's used pandas?\n",
    "\n",
    "\n",
    "- Who has been programming in python for less than 2 years?"
   ]
  },
  {
   "cell_type": "markdown",
   "metadata": {},
   "source": [
    "### Warm up\n",
    "\n",
    "- Shake hands & Hello"
   ]
  },
  {
   "cell_type": "markdown",
   "metadata": {},
   "source": [
    "### Jupyter Introduction\n",
    "\n",
    "- Blue border: Command mode\n",
    "- Green border: Edit mode\n",
    "- Esc: Switch from edit mode to command mode\n",
    "\n",
    "#### Command mode:\n",
    "- Shift + Enter: Run cell and move cursor to next cell\n",
    "- Ctrl + Enger: Run cell but keep cursor on current cell\n",
    "\n",
    "\n",
    "- a: add cell above this cell\n",
    "- b: add cell below this cell\n",
    "\n",
    "\n",
    "- x: delete this cell\n",
    "- z: undo delete\n",
    "\n",
    "- o: hide cell output"
   ]
  },
  {
   "cell_type": "markdown",
   "metadata": {},
   "source": [
    "### Data Structure Review\n",
    "- Reference: https://docs.python.org/3/tutorial/datastructures.html"
   ]
  },
  {
   "cell_type": "markdown",
   "metadata": {},
   "source": [
    "#### Lists - Mutable sequences of items"
   ]
  },
  {
   "cell_type": "code",
   "execution_count": 1,
   "metadata": {
    "collapsed": true
   },
   "outputs": [],
   "source": [
    "fruits = ['orange', 'apple', 'pear', 'banana', 'apple', 'banana']"
   ]
  },
  {
   "cell_type": "markdown",
   "metadata": {},
   "source": [
    "Exercises"
   ]
  },
  {
   "cell_type": "code",
   "execution_count": 2,
   "metadata": {
    "collapsed": false
   },
   "outputs": [
    {
     "data": {
      "text/plain": [
       "6"
      ]
     },
     "execution_count": 2,
     "metadata": {},
     "output_type": "execute_result"
    }
   ],
   "source": [
    "# Calculate the length of fruits\n",
    "len(fruits)"
   ]
  },
  {
   "cell_type": "code",
   "execution_count": 4,
   "metadata": {
    "collapsed": false
   },
   "outputs": [
    {
     "data": {
      "text/plain": [
       "['orange', 'apple', 'pear', 'banana', 'apple', 'banana', 'kiwi', 'kiwi']"
      ]
     },
     "execution_count": 4,
     "metadata": {},
     "output_type": "execute_result"
    }
   ],
   "source": [
    "# Insert 'kiwi' into fruits and show the result without using print()\n",
    "fruits.append('kiwi')\n",
    "fruits"
   ]
  },
  {
   "cell_type": "code",
   "execution_count": 5,
   "metadata": {
    "collapsed": false
   },
   "outputs": [
    {
     "data": {
      "text/plain": [
       "['orange', 'apple', 'pear']"
      ]
     },
     "execution_count": 5,
     "metadata": {},
     "output_type": "execute_result"
    }
   ],
   "source": [
    "# Create a new list with the first 3 elements of fruits\n",
    "fruits[:3]"
   ]
  },
  {
   "cell_type": "code",
   "execution_count": 9,
   "metadata": {
    "collapsed": false
   },
   "outputs": [
    {
     "data": {
      "text/plain": [
       "['kiwi', 'kiwi']"
      ]
     },
     "execution_count": 9,
     "metadata": {},
     "output_type": "execute_result"
    }
   ],
   "source": [
    "# Create a new list with the last 2 elements of fruits\n",
    "fruits[-2:]"
   ]
  },
  {
   "cell_type": "code",
   "execution_count": null,
   "metadata": {
    "collapsed": false
   },
   "outputs": [],
   "source": [
    "# %load solutions/1-1.py\n",
    "# Solutions\n",
    "\n",
    "# Calculate the length of fruits\n",
    "len(fruits)\n",
    "\n",
    "# Insert 'kiwi' into fruits and show the result without using print()\n",
    "fruits.append('kiwi')\n",
    "fruits\n",
    "\n",
    "# Create a new list with the first 3 elements of fruits\n",
    "fruits[0:3]\n",
    "\n",
    "# Create a new list with the last 2 elements of fruits\n",
    "fruits[-2:]"
   ]
  },
  {
   "cell_type": "markdown",
   "metadata": {},
   "source": [
    "#### Dictionary - Maps a hashable key to an item\n",
    "\n",
    "*What is a hash value?*\n",
    "- A hash value is a numeric value of a fixed length that uniquely identifies data."
   ]
  },
  {
   "cell_type": "code",
   "execution_count": 7,
   "metadata": {
    "collapsed": false
   },
   "outputs": [
    {
     "data": {
      "text/plain": [
       "1342"
      ]
     },
     "execution_count": 7,
     "metadata": {},
     "output_type": "execute_result"
    }
   ],
   "source": [
    "hash(1342)"
   ]
  },
  {
   "cell_type": "code",
   "execution_count": 8,
   "metadata": {
    "collapsed": false
   },
   "outputs": [
    {
     "data": {
      "text/plain": [
       "-8756999365573040106"
      ]
     },
     "execution_count": 8,
     "metadata": {},
     "output_type": "execute_result"
    }
   ],
   "source": [
    "hash('BRQ')"
   ]
  },
  {
   "cell_type": "code",
   "execution_count": 9,
   "metadata": {
    "collapsed": false,
    "scrolled": false
   },
   "outputs": [
    {
     "data": {
      "text/plain": [
       "7430783553169090660"
      ]
     },
     "execution_count": 9,
     "metadata": {},
     "output_type": "execute_result"
    }
   ],
   "source": [
    "hash('PRG')"
   ]
  },
  {
   "cell_type": "markdown",
   "metadata": {},
   "source": [
    "Dictionary Example"
   ]
  },
  {
   "cell_type": "code",
   "execution_count": 12,
   "metadata": {
    "collapsed": true
   },
   "outputs": [],
   "source": [
    "czech_ryanair = {\n",
    "    'BRQ' : ['LTN'],\n",
    "    'PRG' : ['CRL', 'CIA', 'BGY', 'TPS','DUB','STN','LPL'],\n",
    "    'OSR' : ['BGY', 'STN'],\n",
    "}"
   ]
  },
  {
   "cell_type": "code",
   "execution_count": 13,
   "metadata": {
    "collapsed": false
   },
   "outputs": [
    {
     "name": "stdout",
     "output_type": "stream",
     "text": [
      "Key: BRQ, Value: ['LTN']\n",
      "Key: PRG, Value: ['CRL', 'CIA', 'BGY', 'TPS', 'DUB', 'STN', 'LPL']\n",
      "Key: OSR, Value: ['BGY', 'STN']\n"
     ]
    }
   ],
   "source": [
    "# Iterate through czech_ryanair printing the keys and values\n",
    "for key, value in czech_ryanair.items():\n",
    "    print('Key: {}, Value: {}'.format(key, value))"
   ]
  },
  {
   "cell_type": "markdown",
   "metadata": {
    "collapsed": true
   },
   "source": [
    "Dictionary Exercises"
   ]
  },
  {
   "cell_type": "code",
   "execution_count": 14,
   "metadata": {
    "collapsed": false
   },
   "outputs": [
    {
     "data": {
      "text/plain": [
       "['CRL', 'CIA', 'BGY', 'TPS', 'DUB', 'STN', 'LPL']"
      ]
     },
     "execution_count": 14,
     "metadata": {},
     "output_type": "execute_result"
    }
   ],
   "source": [
    "# Which destinations are accessible from Prague (PRG)?\n",
    "czech_ryanair['PRG']"
   ]
  },
  {
   "cell_type": "code",
   "execution_count": 26,
   "metadata": {
    "collapsed": false
   },
   "outputs": [
    {
     "data": {
      "text/plain": [
       "['LTN', 'CRL', 'CIA', 'BGY', 'TPS', 'DUB', 'STN', 'LPL', 'BGY', 'STN']"
      ]
     },
     "execution_count": 26,
     "metadata": {},
     "output_type": "execute_result"
    }
   ],
   "source": [
    "# Construct a list of all the destinations ryanair flies to from czech republic\n",
    "l = []\n",
    "for key, value in czech_ryanair.items():\n",
    "    l += value\n",
    "#[l.append(dest) for key, dest in czech_ryanair.items()]\n",
    "l"
   ]
  },
  {
   "cell_type": "code",
   "execution_count": 14,
   "metadata": {
    "collapsed": false
   },
   "outputs": [],
   "source": [
    "# %load solutions/1-2.py"
   ]
  },
  {
   "cell_type": "markdown",
   "metadata": {},
   "source": [
    "#### Set - Unordered collection of unique hashable items"
   ]
  },
  {
   "cell_type": "code",
   "execution_count": 15,
   "metadata": {
    "collapsed": false
   },
   "outputs": [],
   "source": [
    "john_classes = {'monday', 'tuesday', 'wednesday'}\n",
    "eric_classes = set(['wednesday', 'thursday'])"
   ]
  },
  {
   "cell_type": "code",
   "execution_count": 16,
   "metadata": {
    "collapsed": false
   },
   "outputs": [
    {
     "data": {
      "text/plain": [
       "{'monday', 'tuesday', 'wednesday'}"
      ]
     },
     "execution_count": 16,
     "metadata": {},
     "output_type": "execute_result"
    }
   ],
   "source": [
    "john_classes"
   ]
  },
  {
   "cell_type": "code",
   "execution_count": 17,
   "metadata": {
    "collapsed": false
   },
   "outputs": [
    {
     "data": {
      "text/plain": [
       "{'thursday', 'wednesday'}"
      ]
     },
     "execution_count": 17,
     "metadata": {},
     "output_type": "execute_result"
    }
   ],
   "source": [
    "eric_classes"
   ]
  },
  {
   "cell_type": "code",
   "execution_count": 18,
   "metadata": {
    "collapsed": false
   },
   "outputs": [
    {
     "data": {
      "text/plain": [
       "{'monday', 'thursday', 'tuesday', 'wednesday'}"
      ]
     },
     "execution_count": 18,
     "metadata": {},
     "output_type": "execute_result"
    }
   ],
   "source": [
    "union = john_classes | eric_classes\n",
    "union"
   ]
  },
  {
   "cell_type": "markdown",
   "metadata": {},
   "source": [
    "Set Exercises"
   ]
  },
  {
   "cell_type": "code",
   "execution_count": 27,
   "metadata": {
    "collapsed": false
   },
   "outputs": [
    {
     "data": {
      "text/plain": [
       "{'BGY', 'CIA', 'CRL', 'DUB', 'LPL', 'LTN', 'STN', 'TPS'}"
      ]
     },
     "execution_count": 27,
     "metadata": {},
     "output_type": "execute_result"
    }
   ],
   "source": [
    "# Print out a list of all the unique destinations ryanair flies to from czech republic\n",
    "set(l)"
   ]
  },
  {
   "cell_type": "code",
   "execution_count": 20,
   "metadata": {
    "collapsed": true
   },
   "outputs": [],
   "source": [
    "# %load solutions/1-3.py"
   ]
  },
  {
   "cell_type": "markdown",
   "metadata": {},
   "source": [
    "### List Comprehensions"
   ]
  },
  {
   "cell_type": "code",
   "execution_count": 2,
   "metadata": {
    "collapsed": false
   },
   "outputs": [],
   "source": [
    "def fib(n):\n",
    "    assert n >= 0\n",
    "    if n < 2: \n",
    "        return n\n",
    "    return fib(n - 1) + fib(n - 2)"
   ]
  },
  {
   "cell_type": "markdown",
   "metadata": {},
   "source": [
    "Construct a list of the fibonacci numbers from 1 to 10 using a loop"
   ]
  },
  {
   "cell_type": "code",
   "execution_count": 4,
   "metadata": {
    "collapsed": false
   },
   "outputs": [
    {
     "data": {
      "text/plain": [
       "[1, 1, 2, 3, 5, 8, 13, 21, 34]"
      ]
     },
     "execution_count": 4,
     "metadata": {},
     "output_type": "execute_result"
    }
   ],
   "source": [
    "fibs = []\n",
    "for i in range(1,10):\n",
    "    fibs.append(fib(i))\n",
    "fibs"
   ]
  },
  {
   "cell_type": "markdown",
   "metadata": {},
   "source": [
    "Do the same but with a list comprehension"
   ]
  },
  {
   "cell_type": "code",
   "execution_count": 22,
   "metadata": {
    "collapsed": false
   },
   "outputs": [
    {
     "data": {
      "text/plain": [
       "[1, 1, 2, 3, 5, 8, 13, 21, 34]"
      ]
     },
     "execution_count": 22,
     "metadata": {},
     "output_type": "execute_result"
    }
   ],
   "source": [
    "# List comprehension\n",
    "[fib(i) for i in range(1,10)]"
   ]
  },
  {
   "cell_type": "code",
   "execution_count": 23,
   "metadata": {
    "collapsed": false
   },
   "outputs": [
    {
     "data": {
      "text/plain": [
       "{1: 1, 2: 1, 3: 2, 4: 3, 5: 5, 6: 8, 7: 13, 8: 21, 9: 34}"
      ]
     },
     "execution_count": 23,
     "metadata": {},
     "output_type": "execute_result"
    }
   ],
   "source": [
    "# Dictionary comprehension\n",
    "{ i : fib(i) for i in range(1,10)}"
   ]
  },
  {
   "cell_type": "code",
   "execution_count": 24,
   "metadata": {
    "collapsed": false
   },
   "outputs": [
    {
     "data": {
      "text/plain": [
       "{1, 2, 3, 5, 8, 13, 21, 34}"
      ]
     },
     "execution_count": 24,
     "metadata": {},
     "output_type": "execute_result"
    }
   ],
   "source": [
    "# Set comprehension\n",
    "{fib(i) for i in range(1,10)}"
   ]
  },
  {
   "cell_type": "markdown",
   "metadata": {},
   "source": [
    "#### Filtering with list comprehensions"
   ]
  },
  {
   "cell_type": "code",
   "execution_count": 28,
   "metadata": {
    "collapsed": false,
    "scrolled": true
   },
   "outputs": [
    {
     "data": {
      "text/plain": [
       "[2, 8, 34]"
      ]
     },
     "execution_count": 28,
     "metadata": {},
     "output_type": "execute_result"
    }
   ],
   "source": [
    "data = [fib(i) for i in range(1,10)]\n",
    "[x for x in data if x % 2 == 0]"
   ]
  },
  {
   "cell_type": "markdown",
   "metadata": {},
   "source": [
    "Comprehension Exercises"
   ]
  },
  {
   "cell_type": "code",
   "execution_count": 36,
   "metadata": {
    "collapsed": false
   },
   "outputs": [],
   "source": [
    "# Write a function to calculate the square of a number\n",
    "s = lambda n: n**2"
   ]
  },
  {
   "cell_type": "code",
   "execution_count": 37,
   "metadata": {
    "collapsed": false
   },
   "outputs": [
    {
     "data": {
      "text/plain": [
       "[400, 441, 484, 529, 576, 625]"
      ]
     },
     "execution_count": 37,
     "metadata": {},
     "output_type": "execute_result"
    }
   ],
   "source": [
    "# Write a list comprehension using the square function to calculate the square of the numbers \n",
    "#   between 20 and 25 inclusive\n",
    "[s(n) for n in range(20,26)]"
   ]
  },
  {
   "cell_type": "code",
   "execution_count": 27,
   "metadata": {
    "collapsed": false
   },
   "outputs": [],
   "source": [
    "# %load solutions/1-4.py"
   ]
  },
  {
   "cell_type": "code",
   "execution_count": 43,
   "metadata": {
    "collapsed": false
   },
   "outputs": [
    {
     "data": {
      "text/plain": [
       "{0: 0,\n",
       " 5: 25,\n",
       " 10: 100,\n",
       " 15: 225,\n",
       " 20: 400,\n",
       " 25: 625,\n",
       " 30: 900,\n",
       " 35: 1225,\n",
       " 40: 1600,\n",
       " 45: 2025,\n",
       " 50: 2500,\n",
       " 55: 3025,\n",
       " 60: 3600,\n",
       " 65: 4225,\n",
       " 70: 4900,\n",
       " 75: 5625,\n",
       " 80: 6400,\n",
       " 85: 7225,\n",
       " 90: 8100,\n",
       " 95: 9025,\n",
       " 100: 10000}"
      ]
     },
     "execution_count": 43,
     "metadata": {},
     "output_type": "execute_result"
    }
   ],
   "source": [
    "# Write a function which constructs a list of tuples (a, square(a)) for the numbers 0 to 100 \n",
    "# if the square is divisible by 5\n",
    "\n",
    "# Note: A tuple is similar to a list but constructed using rounded brackets: tripled_tuple = (1, 8, 27)\n",
    "[(a, s(a)) for a in range(101) if s(a) % 5 == 0]"
   ]
  },
  {
   "cell_type": "code",
   "execution_count": null,
   "metadata": {
    "collapsed": false
   },
   "outputs": [],
   "source": [
    "# %load solutions/1-5.py\n",
    "[(a, square(a)) for a in range(0,100+1) if square(a) % 5 == 0]"
   ]
  },
  {
   "cell_type": "markdown",
   "metadata": {},
   "source": [
    "### Python Memory Model\n",
    "\n",
    "- Reference: https://docs.python.org/3/reference/datamodel.html"
   ]
  },
  {
   "cell_type": "markdown",
   "metadata": {},
   "source": [
    "Types review\n",
    "- Reference: https://docs.python.org/3/library/stdtypes.html"
   ]
  },
  {
   "cell_type": "code",
   "execution_count": 31,
   "metadata": {
    "collapsed": false
   },
   "outputs": [
    {
     "data": {
      "text/plain": [
       "str"
      ]
     },
     "execution_count": 31,
     "metadata": {},
     "output_type": "execute_result"
    }
   ],
   "source": [
    "type('hello')"
   ]
  },
  {
   "cell_type": "code",
   "execution_count": 32,
   "metadata": {
    "collapsed": false
   },
   "outputs": [
    {
     "data": {
      "text/plain": [
       "int"
      ]
     },
     "execution_count": 32,
     "metadata": {},
     "output_type": "execute_result"
    }
   ],
   "source": [
    "type(1)"
   ]
  },
  {
   "cell_type": "code",
   "execution_count": 33,
   "metadata": {
    "collapsed": false
   },
   "outputs": [
    {
     "data": {
      "text/plain": [
       "float"
      ]
     },
     "execution_count": 33,
     "metadata": {},
     "output_type": "execute_result"
    }
   ],
   "source": [
    "type(8734.23)"
   ]
  },
  {
   "cell_type": "code",
   "execution_count": 34,
   "metadata": {
    "collapsed": false
   },
   "outputs": [
    {
     "data": {
      "text/plain": [
       "bool"
      ]
     },
     "execution_count": 34,
     "metadata": {},
     "output_type": "execute_result"
    }
   ],
   "source": [
    "type(False)"
   ]
  },
  {
   "cell_type": "code",
   "execution_count": 35,
   "metadata": {
    "collapsed": false
   },
   "outputs": [
    {
     "data": {
      "text/plain": [
       "builtin_function_or_method"
      ]
     },
     "execution_count": 35,
     "metadata": {},
     "output_type": "execute_result"
    }
   ],
   "source": [
    "type(sum)"
   ]
  },
  {
   "cell_type": "code",
   "execution_count": 36,
   "metadata": {
    "collapsed": false
   },
   "outputs": [
    {
     "data": {
      "text/plain": [
       "type"
      ]
     },
     "execution_count": 36,
     "metadata": {},
     "output_type": "execute_result"
    }
   ],
   "source": [
    "type(type)"
   ]
  },
  {
   "cell_type": "markdown",
   "metadata": {},
   "source": [
    "#### How do these basic types look in python memory?"
   ]
  },
  {
   "cell_type": "code",
   "execution_count": 44,
   "metadata": {
    "collapsed": false
   },
   "outputs": [],
   "source": [
    "%load_ext tutormagic"
   ]
  },
  {
   "cell_type": "code",
   "execution_count": 45,
   "metadata": {
    "collapsed": false
   },
   "outputs": [
    {
     "data": {
      "text/html": [
       "\n",
       "        <iframe\n",
       "            width=\"100%\"\n",
       "            height=\"300\"\n",
       "            src=\"http://pythontutor.com/iframe-embed.html#code=a%20%3D%20%27hello%27%0Ab%20%3D%201%0Ac%20%3D%208734.23%0Ad%20%3D%20False%0Ae%20%3D%20sum%0Af%20%3D%20type&origin=opt-frontend.js&cumulative=false&heapPrimitives=false&textReferences=false&py=3&rawInputLstJSON=%5B%5D&curInstr=0&codeDivWidth=50%25&codeDivHeight=100%25\"\n",
       "            frameborder=\"0\"\n",
       "            allowfullscreen\n",
       "        ></iframe>\n",
       "        "
      ],
      "text/plain": [
       "<IPython.lib.display.IFrame at 0x107cb89e8>"
      ]
     },
     "metadata": {},
     "output_type": "display_data"
    }
   ],
   "source": [
    "%%tutor --lang python3 --height 300\n",
    "a = 'hello'\n",
    "b = 1\n",
    "c = 8734.23\n",
    "d = False\n",
    "e = sum\n",
    "f = type"
   ]
  },
  {
   "cell_type": "markdown",
   "metadata": {},
   "source": [
    "#### How do lists look in memory?"
   ]
  },
  {
   "cell_type": "code",
   "execution_count": 46,
   "metadata": {
    "collapsed": false
   },
   "outputs": [
    {
     "data": {
      "text/html": [
       "\n",
       "        <iframe\n",
       "            width=\"100%\"\n",
       "            height=\"400\"\n",
       "            src=\"http://pythontutor.com/iframe-embed.html#code=letters%20%3D%20%5B%27A%27%2C%20%27B%27%2C%20%27C%27%5D%0Aletters.pop%28%29%0Ad%20%3D%20%27D%27%0Aletters.append%28d%29%0Anumbers%20%3D%20%5B3%2C3%2C2%5D%0Aletters%5B1%5D%20%3D%20numbers%0Aprint%28letters%5B1%5D%29%0Anumbers%5B0%5D%20%3D%200%0Aprint%28letters%5B1%5D%29&origin=opt-frontend.js&cumulative=false&heapPrimitives=false&textReferences=false&py=3&rawInputLstJSON=%5B%5D&curInstr=0&codeDivWidth=50%25&codeDivHeight=100%25\"\n",
       "            frameborder=\"0\"\n",
       "            allowfullscreen\n",
       "        ></iframe>\n",
       "        "
      ],
      "text/plain": [
       "<IPython.lib.display.IFrame at 0x107cb8908>"
      ]
     },
     "metadata": {},
     "output_type": "display_data"
    }
   ],
   "source": [
    "%%tutor --lang python3 --height 400\n",
    "letters = ['A', 'B', 'C']\n",
    "letters.pop()\n",
    "d = 'D'\n",
    "letters.append(d)\n",
    "numbers = [3,3,2]\n",
    "letters[1] = numbers\n",
    "print(letters[1])\n",
    "numbers[0] = 0\n",
    "print(letters[1])"
   ]
  },
  {
   "cell_type": "markdown",
   "metadata": {},
   "source": [
    "#### What happens when you slice a list in python?"
   ]
  },
  {
   "cell_type": "code",
   "execution_count": 47,
   "metadata": {
    "collapsed": false
   },
   "outputs": [
    {
     "data": {
      "text/html": [
       "\n",
       "        <iframe\n",
       "            width=\"100%\"\n",
       "            height=\"400\"\n",
       "            src=\"http://pythontutor.com/iframe-embed.html#code=letters%20%3D%20%5B%27A%27%2C%20%27B%27%2C%20%27C%27%2C%20%27D%27%2C%20%27E%27%5D%0Aletters_slice%20%3D%20letters%5B0%3A2%5D%0Aprint%28letters_slice%5B0%5D%29%0Aletters%5B0%5D%20%3D%20%27Z%27%0Aprint%28letters_slice%5B0%5D%29&origin=opt-frontend.js&cumulative=false&heapPrimitives=false&textReferences=false&py=3&rawInputLstJSON=%5B%5D&curInstr=0&codeDivWidth=50%25&codeDivHeight=100%25\"\n",
       "            frameborder=\"0\"\n",
       "            allowfullscreen\n",
       "        ></iframe>\n",
       "        "
      ],
      "text/plain": [
       "<IPython.lib.display.IFrame at 0x107dafc88>"
      ]
     },
     "metadata": {},
     "output_type": "display_data"
    }
   ],
   "source": [
    "%%tutor --lang python3 --height 400\n",
    "letters = ['A', 'B', 'C', 'D', 'E']\n",
    "letters_slice = letters[0:2]\n",
    "print(letters_slice[0])\n",
    "letters[0] = 'Z'\n",
    "print(letters_slice[0])"
   ]
  },
  {
   "cell_type": "markdown",
   "metadata": {},
   "source": [
    "#### What happens when you slice a string in python?"
   ]
  },
  {
   "cell_type": "code",
   "execution_count": 41,
   "metadata": {
    "collapsed": false,
    "scrolled": true
   },
   "outputs": [
    {
     "data": {
      "text/html": [
       "\n",
       "        <iframe\n",
       "            width=\"100%\"\n",
       "            height=\"350\"\n",
       "            src=\"http://pythontutor.com/iframe-embed.html#code=string_a%20%3D%20%27hello%20world%27%0Astring_b%20%3D%20string_a%5B0%3A4%5D%0Aprint%28string_b%5B0%5D%29%0Astring_b%5B0%5D%20%3D%20%27b%27&origin=opt-frontend.js&cumulative=false&heapPrimitives=false&textReferences=false&py=3&rawInputLstJSON=%5B%5D&curInstr=0&codeDivWidth=50%25&codeDivHeight=100%25\"\n",
       "            frameborder=\"0\"\n",
       "            allowfullscreen\n",
       "        ></iframe>\n",
       "        "
      ],
      "text/plain": [
       "<IPython.lib.display.IFrame at 0x10486b9b0>"
      ]
     },
     "metadata": {},
     "output_type": "display_data"
    }
   ],
   "source": [
    "%%tutor --lang python3 --height 350\n",
    "string_a = 'hello world'\n",
    "string_b = string_a[0:4]\n",
    "print(string_b[0])\n",
    "string_b[0] = 'b'"
   ]
  },
  {
   "cell_type": "markdown",
   "metadata": {},
   "source": [
    "### Mutability\n",
    "\n",
    "- Mutable: Objects whose value can change\n",
    "- Immutable: Objects whose value is unchangeable once they are created\n",
    "\n",
    "Immutable types:\n",
    "- int, float, etc.\n",
    "- string\n",
    "- tuple\n",
    "- frozenset\n",
    "\n",
    "Mutable types:\n",
    "- list\n",
    "- dict\n",
    "- set"
   ]
  },
  {
   "cell_type": "markdown",
   "metadata": {},
   "source": [
    "#### Swapping values"
   ]
  },
  {
   "cell_type": "code",
   "execution_count": 48,
   "metadata": {
    "collapsed": false
   },
   "outputs": [
    {
     "data": {
      "text/html": [
       "\n",
       "        <iframe\n",
       "            width=\"100%\"\n",
       "            height=\"350\"\n",
       "            src=\"http://pythontutor.com/iframe-embed.html#code=lowest%20%3D%201.0%0Ahighest%20%3D%203.0%0Atemp%20%3D%20lowest%0Alowest%20%3D%20highest%0Ahighest%20%3D%20temp&origin=opt-frontend.js&cumulative=false&heapPrimitives=false&textReferences=false&py=3&rawInputLstJSON=%5B%5D&curInstr=0&codeDivWidth=50%25&codeDivHeight=100%25\"\n",
       "            frameborder=\"0\"\n",
       "            allowfullscreen\n",
       "        ></iframe>\n",
       "        "
      ],
      "text/plain": [
       "<IPython.lib.display.IFrame at 0x107dafeb8>"
      ]
     },
     "metadata": {},
     "output_type": "display_data"
    }
   ],
   "source": [
    "%%tutor --lang python3 --height 350\n",
    "lowest = 1.0\n",
    "highest = 3.0\n",
    "temp = lowest\n",
    "lowest = highest\n",
    "highest = temp"
   ]
  },
  {
   "cell_type": "markdown",
   "metadata": {},
   "source": [
    "### Why use immutable types?\n",
    "1. Optimization\n",
    "- Value stability\n",
    "  - Hash table keys\n",
    "  - Passing values to functions\n",
    "- Many others... who knows another one?"
   ]
  },
  {
   "cell_type": "code",
   "execution_count": 49,
   "metadata": {
    "collapsed": false,
    "scrolled": true
   },
   "outputs": [
    {
     "name": "stdout",
     "output_type": "stream",
     "text": [
      "100000000 loops, best of 3: 16.3 ns per loop\n",
      "10000000 loops, best of 3: 72.5 ns per loop\n"
     ]
    }
   ],
   "source": [
    "%timeit ('fee','fie','fo','fum')\n",
    "%timeit ['fee','fie','fo','fum']"
   ]
  },
  {
   "cell_type": "markdown",
   "metadata": {},
   "source": [
    "### The call stack\n",
    "- Reference: https://www.cs.ucsb.edu/~pconrad/cs8/topics.beta/theStack/\n",
    "\n",
    "- Calling a function pushes a frame onto the stack\n",
    "- Returning from a function pops it's frame off the stack\n",
    "\n"
   ]
  },
  {
   "cell_type": "code",
   "execution_count": 50,
   "metadata": {
    "collapsed": false
   },
   "outputs": [
    {
     "data": {
      "text/html": [
       "\n",
       "        <iframe\n",
       "            width=\"100%\"\n",
       "            height=\"350\"\n",
       "            src=\"http://pythontutor.com/iframe-embed.html#code=a%20%3D%201%0Ab%20%3D%202%0A%0Adef%20add%28x%2C%20y%29%3A%0A%20%20%20%20return%20x%20%2B%20y%0A%0Ac%20%3D%20add%28a%2C%20b%29&origin=opt-frontend.js&cumulative=false&heapPrimitives=false&textReferences=false&py=3&rawInputLstJSON=%5B%5D&curInstr=0&codeDivWidth=50%25&codeDivHeight=100%25\"\n",
       "            frameborder=\"0\"\n",
       "            allowfullscreen\n",
       "        ></iframe>\n",
       "        "
      ],
      "text/plain": [
       "<IPython.lib.display.IFrame at 0x107d3d0f0>"
      ]
     },
     "metadata": {},
     "output_type": "display_data"
    }
   ],
   "source": [
    "%%tutor --lang python3\n",
    "a = 1\n",
    "b = 2\n",
    "\n",
    "def add(x, y):\n",
    "    return x + y\n",
    "\n",
    "c = add(a, b)"
   ]
  },
  {
   "cell_type": "code",
   "execution_count": 51,
   "metadata": {
    "collapsed": false
   },
   "outputs": [
    {
     "data": {
      "text/html": [
       "\n",
       "        <iframe\n",
       "            width=\"100%\"\n",
       "            height=\"600\"\n",
       "            src=\"http://pythontutor.com/iframe-embed.html#code=def%20foo%28%29%3A%0A%20%20%20%20print%28%22foo%20line%201%22%29%0A%20%20%20%20print%28%22foo%20line%202%22%29%0A%20%20%20%20print%28%22foo%20line%203%22%29%0A%0Adef%20fum%28%29%3A%0A%20%20%20%20print%28%22fum%20line%201%22%29%0A%20%20%20%20print%28%22fum%20line%202%22%29%0A%20%20%20%20print%28%22fum%20line%203%22%29%0A%0Adef%20bar%28%29%3A%0A%20%20%20%20print%28%22bar%20line%201%22%29%0A%20%20%20%20fum%28%29%0A%20%20%20%20foo%28%29%0A%20%20%20%20print%28%22bar%20line%204%22%29%0A%0Adef%20go%28%29%3A%0A%20%20%20%20bar%28%29%0A%0Ago%28%29&origin=opt-frontend.js&cumulative=false&heapPrimitives=false&textReferences=false&py=3&rawInputLstJSON=%5B%5D&curInstr=0&codeDivWidth=50%25&codeDivHeight=100%25\"\n",
       "            frameborder=\"0\"\n",
       "            allowfullscreen\n",
       "        ></iframe>\n",
       "        "
      ],
      "text/plain": [
       "<IPython.lib.display.IFrame at 0x107cb8f28>"
      ]
     },
     "metadata": {},
     "output_type": "display_data"
    }
   ],
   "source": [
    "%%tutor --lang python3 --height 600\n",
    "def foo():\n",
    "    print(\"foo line 1\")\n",
    "    print(\"foo line 2\")\n",
    "    print(\"foo line 3\")\n",
    "\n",
    "def fum():\n",
    "    print(\"fum line 1\")\n",
    "    print(\"fum line 2\")\n",
    "    print(\"fum line 3\")\n",
    "\n",
    "def bar():\n",
    "    print(\"bar line 1\")\n",
    "    fum()\n",
    "    foo()\n",
    "    print(\"bar line 4\")\n",
    "\n",
    "def go():\n",
    "    bar()\n",
    "\n",
    "go()\n"
   ]
  },
  {
   "cell_type": "markdown",
   "metadata": {},
   "source": [
    "#### What is None?\n",
    "\n",
    "`None`\n",
    "\n",
    "- None is frequently used to represent the absence of a value, as when default arguments are not passed to a function.\n",
    "- A function that does not specify a return statement automatically returns `None`\n"
   ]
  },
  {
   "cell_type": "markdown",
   "metadata": {
    "collapsed": true
   },
   "source": [
    "#### How can I see what variables are avilable in a Jupyer notebook?"
   ]
  },
  {
   "cell_type": "code",
   "execution_count": 52,
   "metadata": {
    "collapsed": false
   },
   "outputs": [
    {
     "name": "stdout",
     "output_type": "stream",
     "text": [
      "Variable        Type        Data/Info\n",
      "-------------------------------------\n",
      "czech_ryanair   dict        n=3\n",
      "fruits          list        n=8\n",
      "key             str         OSR\n",
      "l               list        n=10\n",
      "s               function    <function <lambda> at 0x107d9bd90>\n",
      "sqr             function    <function sqr at 0x107d9bc80>\n",
      "value           list        n=2\n"
     ]
    }
   ],
   "source": [
    "%whos"
   ]
  },
  {
   "cell_type": "code",
   "execution_count": null,
   "metadata": {
    "collapsed": true
   },
   "outputs": [],
   "source": []
  }
 ],
 "metadata": {
  "anaconda-cloud": {},
  "kernelspec": {
   "display_name": "Python 3",
   "language": "python",
   "name": "python3"
  },
  "language_info": {
   "codemirror_mode": {
    "name": "ipython",
    "version": 3
   },
   "file_extension": ".py",
   "mimetype": "text/x-python",
   "name": "python",
   "nbconvert_exporter": "python",
   "pygments_lexer": "ipython3",
   "version": "3.6.0"
  }
 },
 "nbformat": 4,
 "nbformat_minor": 1
}
